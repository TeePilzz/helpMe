{
 "cells": [
  {
   "cell_type": "markdown",
   "metadata": {
    "colab_type": "text",
    "id": "view-in-github"
   },
   "source": [
    "<a href=\"https://colab.research.google.com/github/vifirsanova/compling/blob/main/word2vec/co_occurence_practice.ipynb\" target=\"_parent\"><img src=\"https://colab.research.google.com/assets/colab-badge.svg\" alt=\"Open In Colab\"/></a>"
   ]
  },
  {
   "cell_type": "code",
   "execution_count": 22,
   "metadata": {
    "colab": {
     "base_uri": "https://localhost:8080/"
    },
    "id": "84BvzYUrIdzz",
    "outputId": "073d5b57-311c-4067-be97-5ba22dd1a74e"
   },
   "outputs": [],
   "source": [
    "with open(r'C:\\Users\\Дарья\\Desktop\\Учеба\\дз комп л\\vk_posts.txt', encoding='utf-8') as file:\n",
    "    text = file.read()"
   ]
  },
  {
   "cell_type": "code",
   "execution_count": null,
   "metadata": {
    "id": "yefcQBP6P3Wz"
   },
   "outputs": [],
   "source": [
    "import pandas as pd\n",
    "import seaborn as sns\n",
    "import matplotlib.pyplot as plt\n",
    "from collections import defaultdict\n",
    "import re"
   ]
  },
  {
   "cell_type": "code",
   "execution_count": 23,
   "metadata": {
    "colab": {
     "base_uri": "https://localhost:8080/",
     "height": 87
    },
    "id": "h38W5BFSQAZb",
    "outputId": "a17c9060-1ba3-48ab-cd3c-faf217b9b34e"
   },
   "outputs": [
    {
     "data": {
      "text/plain": [
       "'??благодаря вашей группе лёва (новое сокращение от его прошлого имени лебовски) нашёл дом!  хочу передать благодарность админам и подписчикам и, конечно же, новой семье котана.   на первом фото - состояние, в котором мы забрали его спасаться и лечиться с турбазы в предгорьях адыгеи. у него обнаружили вик, двусторонний отит, запущенный нотоэдроз, лишай, лямблиоз... крайнее истощение, разумеется. едва ли он пережил бы зиму.   на следующем коллаже он через полгода. игривый активный ещё молодой кот, очень контактный и любящий людей. никакие сложности выживания и лечения его не сломили. собственно, жизнелюбие и стойкость его и спасли, ведь если бы он не продолжал упорно выходить к новым туристам, несмотря ни на что, мы бы его и не забрали.   ну а все остальные кадры уже из москвы, из его нового дома, от его прекрасной хозяйки юлии. ??  именно в этом сообществе она увидела мой пост про него.\\nэтот пост — моя огромная благодарность тебе за все годы что ты живёшь с нами???? в это 16 апреля он с'"
      ]
     },
     "execution_count": 23,
     "metadata": {},
     "output_type": "execute_result"
    }
   ],
   "source": [
    "text = text.lower()\n",
    "text[0:1000]"
   ]
  },
  {
   "cell_type": "code",
   "execution_count": 24,
   "metadata": {
    "colab": {
     "base_uri": "https://localhost:8080/",
     "height": 87
    },
    "id": "1YENloVmQFjO",
    "outputId": "73059f77-e3dd-459e-fb7f-a8542c63e130"
   },
   "outputs": [
    {
     "data": {
      "text/plain": [
       "'??благодаря вашей группе лва (новое сокращение от его прошлого имени лебовски) нашл дом!  хочу передать благодарность админам и подписчикам и, конечно же, новой семье котана.   на первом фото - состояние, в котором мы забрали его спасаться и лечиться с турбазы в предгорьях адыгеи. у него обнаружили вик, двусторонний отит, запущенный нотоэдроз, лишай, лямблиоз... крайнее истощение, разумеется. едва ли он пережил бы зиму.   на следующем коллаже он через полгода. игривый активный ещ молодой кот, очень контактный и любящий людей. никакие сложности выживания и лечения его не сломили. собственно, жизнелюбие и стойкость его и спасли, ведь если бы он не продолжал упорно выходить к новым туристам, несмотря ни на что, мы бы его и не забрали.   ну а все остальные кадры уже из москвы, из его нового дома, от его прекрасной хозяйки юлии. ??  именно в этом сообществе она увидела мой пост про него.\\nэтот пост  моя огромная благодарность тебе за все годы что ты жившь с нами???? в это 16 апреля он станов'"
      ]
     },
     "execution_count": 24,
     "metadata": {},
     "output_type": "execute_result"
    }
   ],
   "source": [
    "text = re.sub(r'[^a-zA-Zа-яА-Я0-9\\s.,;:!?()-]', '', text)\n",
    "text[0:1000]"
   ]
  },
  {
   "cell_type": "code",
   "execution_count": 32,
   "metadata": {
    "colab": {
     "base_uri": "https://localhost:8080/"
    },
    "id": "EHErqvolQJ9c",
    "outputId": "9240b705-ae95-4481-e14b-cc13c7cdb9b5"
   },
   "outputs": [
    {
     "data": {
      "text/plain": [
       "['',\n",
       " '',\n",
       " 'благодаря вашей группе лва (новое сокращение от его прошлого имени лебовски) нашл дом',\n",
       " '  хочу передать благодарность админам и подписчикам и, конечно же, новой семье котана',\n",
       " '   на первом фото - состояние, в котором мы забрали его спасаться и лечиться с турбазы в предгорьях адыгеи',\n",
       " ' у него обнаружили вик, двусторонний отит, запущенный нотоэдроз, лишай, лямблиоз',\n",
       " '',\n",
       " '',\n",
       " ' крайнее истощение, разумеется',\n",
       " ' едва ли он пережил бы зиму',\n",
       " '   на следующем коллаже он через полгода',\n",
       " ' игривый активный ещ молодой кот, очень контактный и любящий людей',\n",
       " ' никакие сложности выживания и лечения его не сломили',\n",
       " ' собственно, жизнелюбие и стойкость его и спасли, ведь если бы он не продолжал упорно выходить к новым туристам, несмотря ни на что, мы бы его и не забрали',\n",
       " '   ну а все остальные кадры уже из москвы, из его нового дома, от его прекрасной хозяйки юлии',\n",
       " ' ',\n",
       " '',\n",
       " '  именно в этом сообществе она увидела мой пост про него',\n",
       " '\\nэтот пост  моя огромная благодарность тебе за все годы что ты жившь с нами',\n",
       " '']"
      ]
     },
     "execution_count": 32,
     "metadata": {},
     "output_type": "execute_result"
    }
   ],
   "source": [
    "sentences = re.split(r'[\\.\\?!]', text)\n",
    "sentences[0:20]"
   ]
  },
  {
   "cell_type": "code",
   "execution_count": 33,
   "metadata": {
    "colab": {
     "base_uri": "https://localhost:8080/"
    },
    "id": "wLcZUm9AQwMp",
    "outputId": "0c02b0d4-e343-403d-aedf-21aa8fbb744f"
   },
   "outputs": [
    {
     "data": {
      "text/plain": [
       "['первые',\n",
       " 'фотографии',\n",
       " '-',\n",
       " 'единственные',\n",
       " 'сохранившиеся',\n",
       " 'с',\n",
       " 'того',\n",
       " 'времени,',\n",
       " 'на',\n",
       " 'них',\n",
       " 'ему',\n",
       " 'всего',\n",
       " 'полгода,',\n",
       " 'а',\n",
       " 'мне',\n",
       " 'семь']"
      ]
     },
     "execution_count": 33,
     "metadata": {},
     "output_type": "execute_result"
    }
   ],
   "source": [
    "sentences = [sentence.split() for sentence in sentences if sentence]\n",
    "sentences[20]"
   ]
  },
  {
   "cell_type": "code",
   "execution_count": 34,
   "metadata": {
    "id": "Ml9Fq8gwQ63C"
   },
   "outputs": [],
   "source": [
    "co_occurrence = defaultdict(lambda: defaultdict(int))"
   ]
  },
  {
   "cell_type": "code",
   "execution_count": 36,
   "metadata": {
    "colab": {
     "base_uri": "https://localhost:8080/"
    },
    "id": "l06v2BTZQ_W9",
    "outputId": "8bb9ae9d-5a11-41c5-cd2e-9b5b6dd18b19"
   },
   "outputs": [
    {
     "data": {
      "text/plain": [
       "defaultdict(int, {'первые': 2, '-': 2})"
      ]
     },
     "execution_count": 36,
     "metadata": {},
     "output_type": "execute_result"
    }
   ],
   "source": [
    "def update_co_occurrence(sentence, window_size=1):\n",
    "    words = [\"<START>\"] + sentence + [\"<END>\"]\n",
    "    for i, word in enumerate(words):\n",
    "        for j in range(max(0, i - window_size), min(len(words), i + window_size + 1)):\n",
    "            if i != j:\n",
    "                co_occurrence[word][words[j]] += 1\n",
    "\n",
    "for sentence in sentences:\n",
    "    update_co_occurrence(sentence)\n",
    "\n",
    "co_occurrence['фотографии']"
   ]
  },
  {
   "cell_type": "code",
   "execution_count": 37,
   "metadata": {
    "colab": {
     "base_uri": "https://localhost:8080/"
    },
    "id": "9axNtI3gRZBt",
    "outputId": "c313919a-3c4e-4c7b-cfcb-2cc234211c1a"
   },
   "outputs": [
    {
     "data": {
      "text/plain": [
       "['<START>',\n",
       " 'благодаря',\n",
       " 'вашей',\n",
       " 'группе',\n",
       " 'лва',\n",
       " '(новое',\n",
       " 'сокращение',\n",
       " 'от',\n",
       " 'его',\n",
       " 'прошлого']"
      ]
     },
     "execution_count": 37,
     "metadata": {},
     "output_type": "execute_result"
    }
   ],
   "source": [
    "tokens = list(co_occurrence.keys())\n",
    "tokens[:10]"
   ]
  },
  {
   "cell_type": "code",
   "execution_count": 38,
   "metadata": {
    "colab": {
     "base_uri": "https://localhost:8080/",
     "height": 444
    },
    "id": "Vx-5oPJeReyE",
    "outputId": "69d860ac-210d-4d15-99aa-2de9f8202b66"
   },
   "outputs": [
    {
     "data": {
      "text/html": [
       "<div>\n",
       "<style scoped>\n",
       "    .dataframe tbody tr th:only-of-type {\n",
       "        vertical-align: middle;\n",
       "    }\n",
       "\n",
       "    .dataframe tbody tr th {\n",
       "        vertical-align: top;\n",
       "    }\n",
       "\n",
       "    .dataframe thead th {\n",
       "        text-align: right;\n",
       "    }\n",
       "</style>\n",
       "<table border=\"1\" class=\"dataframe\">\n",
       "  <thead>\n",
       "    <tr style=\"text-align: right;\">\n",
       "      <th></th>\n",
       "      <th>&lt;START&gt;</th>\n",
       "      <th>благодаря</th>\n",
       "      <th>вашей</th>\n",
       "      <th>группе</th>\n",
       "      <th>лва</th>\n",
       "      <th>(новое</th>\n",
       "      <th>сокращение</th>\n",
       "      <th>от</th>\n",
       "      <th>его</th>\n",
       "      <th>прошлого</th>\n",
       "      <th>...</th>\n",
       "      <th>подскажет</th>\n",
       "      <th>фирму</th>\n",
       "      <th>админа</th>\n",
       "      <th>благодарю</th>\n",
       "      <th>пропустит</th>\n",
       "      <th>данный</th>\n",
       "      <th>вопрос</th>\n",
       "      <th>обсуждение</th>\n",
       "      <th>вопросkotrastet</th>\n",
       "      <th>absurd</th>\n",
       "    </tr>\n",
       "  </thead>\n",
       "  <tbody>\n",
       "    <tr>\n",
       "      <th>&lt;START&gt;</th>\n",
       "      <td>0</td>\n",
       "      <td>2</td>\n",
       "      <td>0</td>\n",
       "      <td>0</td>\n",
       "      <td>0</td>\n",
       "      <td>0</td>\n",
       "      <td>0</td>\n",
       "      <td>2</td>\n",
       "      <td>4</td>\n",
       "      <td>0</td>\n",
       "      <td>...</td>\n",
       "      <td>0</td>\n",
       "      <td>0</td>\n",
       "      <td>2</td>\n",
       "      <td>0</td>\n",
       "      <td>0</td>\n",
       "      <td>0</td>\n",
       "      <td>0</td>\n",
       "      <td>0</td>\n",
       "      <td>2</td>\n",
       "      <td>0</td>\n",
       "    </tr>\n",
       "    <tr>\n",
       "      <th>благодаря</th>\n",
       "      <td>2</td>\n",
       "      <td>0</td>\n",
       "      <td>2</td>\n",
       "      <td>0</td>\n",
       "      <td>0</td>\n",
       "      <td>0</td>\n",
       "      <td>0</td>\n",
       "      <td>0</td>\n",
       "      <td>0</td>\n",
       "      <td>0</td>\n",
       "      <td>...</td>\n",
       "      <td>0</td>\n",
       "      <td>0</td>\n",
       "      <td>0</td>\n",
       "      <td>0</td>\n",
       "      <td>0</td>\n",
       "      <td>0</td>\n",
       "      <td>0</td>\n",
       "      <td>0</td>\n",
       "      <td>0</td>\n",
       "      <td>0</td>\n",
       "    </tr>\n",
       "    <tr>\n",
       "      <th>вашей</th>\n",
       "      <td>0</td>\n",
       "      <td>2</td>\n",
       "      <td>0</td>\n",
       "      <td>2</td>\n",
       "      <td>0</td>\n",
       "      <td>0</td>\n",
       "      <td>0</td>\n",
       "      <td>0</td>\n",
       "      <td>0</td>\n",
       "      <td>0</td>\n",
       "      <td>...</td>\n",
       "      <td>0</td>\n",
       "      <td>0</td>\n",
       "      <td>0</td>\n",
       "      <td>0</td>\n",
       "      <td>0</td>\n",
       "      <td>0</td>\n",
       "      <td>0</td>\n",
       "      <td>0</td>\n",
       "      <td>0</td>\n",
       "      <td>0</td>\n",
       "    </tr>\n",
       "    <tr>\n",
       "      <th>группе</th>\n",
       "      <td>0</td>\n",
       "      <td>0</td>\n",
       "      <td>2</td>\n",
       "      <td>0</td>\n",
       "      <td>2</td>\n",
       "      <td>0</td>\n",
       "      <td>0</td>\n",
       "      <td>0</td>\n",
       "      <td>0</td>\n",
       "      <td>0</td>\n",
       "      <td>...</td>\n",
       "      <td>0</td>\n",
       "      <td>0</td>\n",
       "      <td>0</td>\n",
       "      <td>0</td>\n",
       "      <td>0</td>\n",
       "      <td>0</td>\n",
       "      <td>0</td>\n",
       "      <td>0</td>\n",
       "      <td>0</td>\n",
       "      <td>0</td>\n",
       "    </tr>\n",
       "    <tr>\n",
       "      <th>лва</th>\n",
       "      <td>0</td>\n",
       "      <td>0</td>\n",
       "      <td>0</td>\n",
       "      <td>2</td>\n",
       "      <td>0</td>\n",
       "      <td>2</td>\n",
       "      <td>0</td>\n",
       "      <td>0</td>\n",
       "      <td>0</td>\n",
       "      <td>0</td>\n",
       "      <td>...</td>\n",
       "      <td>0</td>\n",
       "      <td>0</td>\n",
       "      <td>0</td>\n",
       "      <td>0</td>\n",
       "      <td>0</td>\n",
       "      <td>0</td>\n",
       "      <td>0</td>\n",
       "      <td>0</td>\n",
       "      <td>0</td>\n",
       "      <td>0</td>\n",
       "    </tr>\n",
       "    <tr>\n",
       "      <th>...</th>\n",
       "      <td>...</td>\n",
       "      <td>...</td>\n",
       "      <td>...</td>\n",
       "      <td>...</td>\n",
       "      <td>...</td>\n",
       "      <td>...</td>\n",
       "      <td>...</td>\n",
       "      <td>...</td>\n",
       "      <td>...</td>\n",
       "      <td>...</td>\n",
       "      <td>...</td>\n",
       "      <td>...</td>\n",
       "      <td>...</td>\n",
       "      <td>...</td>\n",
       "      <td>...</td>\n",
       "      <td>...</td>\n",
       "      <td>...</td>\n",
       "      <td>...</td>\n",
       "      <td>...</td>\n",
       "      <td>...</td>\n",
       "      <td>...</td>\n",
       "    </tr>\n",
       "    <tr>\n",
       "      <th>данный</th>\n",
       "      <td>0</td>\n",
       "      <td>0</td>\n",
       "      <td>0</td>\n",
       "      <td>0</td>\n",
       "      <td>0</td>\n",
       "      <td>0</td>\n",
       "      <td>0</td>\n",
       "      <td>0</td>\n",
       "      <td>0</td>\n",
       "      <td>0</td>\n",
       "      <td>...</td>\n",
       "      <td>0</td>\n",
       "      <td>0</td>\n",
       "      <td>0</td>\n",
       "      <td>0</td>\n",
       "      <td>2</td>\n",
       "      <td>0</td>\n",
       "      <td>2</td>\n",
       "      <td>0</td>\n",
       "      <td>0</td>\n",
       "      <td>0</td>\n",
       "    </tr>\n",
       "    <tr>\n",
       "      <th>вопрос</th>\n",
       "      <td>0</td>\n",
       "      <td>0</td>\n",
       "      <td>0</td>\n",
       "      <td>0</td>\n",
       "      <td>0</td>\n",
       "      <td>0</td>\n",
       "      <td>0</td>\n",
       "      <td>0</td>\n",
       "      <td>0</td>\n",
       "      <td>0</td>\n",
       "      <td>...</td>\n",
       "      <td>0</td>\n",
       "      <td>0</td>\n",
       "      <td>0</td>\n",
       "      <td>0</td>\n",
       "      <td>0</td>\n",
       "      <td>2</td>\n",
       "      <td>0</td>\n",
       "      <td>0</td>\n",
       "      <td>0</td>\n",
       "      <td>0</td>\n",
       "    </tr>\n",
       "    <tr>\n",
       "      <th>обсуждение</th>\n",
       "      <td>0</td>\n",
       "      <td>0</td>\n",
       "      <td>0</td>\n",
       "      <td>0</td>\n",
       "      <td>0</td>\n",
       "      <td>0</td>\n",
       "      <td>0</td>\n",
       "      <td>0</td>\n",
       "      <td>0</td>\n",
       "      <td>0</td>\n",
       "      <td>...</td>\n",
       "      <td>0</td>\n",
       "      <td>0</td>\n",
       "      <td>0</td>\n",
       "      <td>0</td>\n",
       "      <td>0</td>\n",
       "      <td>0</td>\n",
       "      <td>0</td>\n",
       "      <td>0</td>\n",
       "      <td>0</td>\n",
       "      <td>0</td>\n",
       "    </tr>\n",
       "    <tr>\n",
       "      <th>вопросkotrastet</th>\n",
       "      <td>2</td>\n",
       "      <td>0</td>\n",
       "      <td>0</td>\n",
       "      <td>0</td>\n",
       "      <td>0</td>\n",
       "      <td>0</td>\n",
       "      <td>0</td>\n",
       "      <td>0</td>\n",
       "      <td>0</td>\n",
       "      <td>0</td>\n",
       "      <td>...</td>\n",
       "      <td>0</td>\n",
       "      <td>0</td>\n",
       "      <td>0</td>\n",
       "      <td>0</td>\n",
       "      <td>0</td>\n",
       "      <td>0</td>\n",
       "      <td>0</td>\n",
       "      <td>0</td>\n",
       "      <td>0</td>\n",
       "      <td>0</td>\n",
       "    </tr>\n",
       "    <tr>\n",
       "      <th>absurd</th>\n",
       "      <td>0</td>\n",
       "      <td>0</td>\n",
       "      <td>0</td>\n",
       "      <td>0</td>\n",
       "      <td>0</td>\n",
       "      <td>0</td>\n",
       "      <td>0</td>\n",
       "      <td>0</td>\n",
       "      <td>0</td>\n",
       "      <td>0</td>\n",
       "      <td>...</td>\n",
       "      <td>0</td>\n",
       "      <td>0</td>\n",
       "      <td>0</td>\n",
       "      <td>0</td>\n",
       "      <td>0</td>\n",
       "      <td>0</td>\n",
       "      <td>0</td>\n",
       "      <td>0</td>\n",
       "      <td>0</td>\n",
       "      <td>0</td>\n",
       "    </tr>\n",
       "  </tbody>\n",
       "</table>\n",
       "<p>2207 rows × 2207 columns</p>\n",
       "</div>"
      ],
      "text/plain": [
       "                 <START>  благодаря  вашей  группе  лва  (новое  сокращение  \\\n",
       "<START>                0          2      0       0    0       0           0   \n",
       "благодаря              2          0      2       0    0       0           0   \n",
       "вашей                  0          2      0       2    0       0           0   \n",
       "группе                 0          0      2       0    2       0           0   \n",
       "лва                    0          0      0       2    0       2           0   \n",
       "...                  ...        ...    ...     ...  ...     ...         ...   \n",
       "данный                 0          0      0       0    0       0           0   \n",
       "вопрос                 0          0      0       0    0       0           0   \n",
       "обсуждение             0          0      0       0    0       0           0   \n",
       "вопросkotrastet        2          0      0       0    0       0           0   \n",
       "absurd                 0          0      0       0    0       0           0   \n",
       "\n",
       "                 от  его  прошлого  ...  подскажет  фирму  админа  благодарю  \\\n",
       "<START>           2    4         0  ...          0      0       2          0   \n",
       "благодаря         0    0         0  ...          0      0       0          0   \n",
       "вашей             0    0         0  ...          0      0       0          0   \n",
       "группе            0    0         0  ...          0      0       0          0   \n",
       "лва               0    0         0  ...          0      0       0          0   \n",
       "...              ..  ...       ...  ...        ...    ...     ...        ...   \n",
       "данный            0    0         0  ...          0      0       0          0   \n",
       "вопрос            0    0         0  ...          0      0       0          0   \n",
       "обсуждение        0    0         0  ...          0      0       0          0   \n",
       "вопросkotrastet   0    0         0  ...          0      0       0          0   \n",
       "absurd            0    0         0  ...          0      0       0          0   \n",
       "\n",
       "                 пропустит  данный  вопрос  обсуждение  вопросkotrastet  \\\n",
       "<START>                  0       0       0           0                2   \n",
       "благодаря                0       0       0           0                0   \n",
       "вашей                    0       0       0           0                0   \n",
       "группе                   0       0       0           0                0   \n",
       "лва                      0       0       0           0                0   \n",
       "...                    ...     ...     ...         ...              ...   \n",
       "данный                   2       0       2           0                0   \n",
       "вопрос                   0       2       0           0                0   \n",
       "обсуждение               0       0       0           0                0   \n",
       "вопросkotrastet          0       0       0           0                0   \n",
       "absurd                   0       0       0           0                0   \n",
       "\n",
       "                 absurd  \n",
       "<START>               0  \n",
       "благодаря             0  \n",
       "вашей                 0  \n",
       "группе                0  \n",
       "лва                   0  \n",
       "...                 ...  \n",
       "данный                0  \n",
       "вопрос                0  \n",
       "обсуждение            0  \n",
       "вопросkotrastet       0  \n",
       "absurd                0  \n",
       "\n",
       "[2207 rows x 2207 columns]"
      ]
     },
     "execution_count": 38,
     "metadata": {},
     "output_type": "execute_result"
    }
   ],
   "source": [
    "co_occurrence_df = pd.DataFrame(co_occurrence).fillna(0).astype(int).reindex(tokens, columns=tokens, fill_value=0)\n",
    "co_occurrence_df"
   ]
  }
 ],
 "metadata": {
  "colab": {
   "authorship_tag": "ABX9TyPdCv32JOvtoHIUHWONGY3X",
   "include_colab_link": true,
   "provenance": []
  },
  "kernelspec": {
   "display_name": "Python 3",
   "language": "python",
   "name": "python3"
  },
  "language_info": {
   "codemirror_mode": {
    "name": "ipython",
    "version": 3
   },
   "file_extension": ".py",
   "mimetype": "text/x-python",
   "name": "python",
   "nbconvert_exporter": "python",
   "pygments_lexer": "ipython3",
   "version": "3.12.6"
  }
 },
 "nbformat": 4,
 "nbformat_minor": 4
}
